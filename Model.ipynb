{
 "cells": [
  {
   "cell_type": "markdown",
   "metadata": {},
   "source": [
    "# Importing libraries"
   ]
  },
  {
   "cell_type": "code",
   "execution_count": 1,
   "metadata": {},
   "outputs": [],
   "source": [
    "import numpy as np\n",
    "import pandas as pd\n",
    "import seaborn as sns\n",
    "import matplotlib.pyplot as plt\n",
    "from dataclasses import dataclass, field\n",
    "\n",
    "import warnings\n",
    "warnings.filterwarnings('ignore')\n",
    "\n",
    "from sklearn.base import BaseEstimator, TransformerMixin\n",
    "\n",
    "# Data imputation\n",
    "from sklearn.preprocessing import MinMaxScaler, QuantileTransformer, PolynomialFeatures\n",
    "\n",
    "# Feature Selection\n",
    "from sklearn.model_selection import train_test_split\n",
    "from sklearn.feature_selection import mutual_info_regression, SelectKBest\n",
    "\n",
    "# Models\n",
    "from sklearn.linear_model import LinearRegression, Ridge, Lasso\n",
    "from sklearn.tree import DecisionTreeRegressor\n",
    "\n",
    "# Performance metrics \n",
    "from sklearn.metrics import mean_squared_error\n",
    "from sklearn.model_selection import cross_val_score\n",
    "\n",
    "\n",
    "\n",
    "from sklearn.pipeline import Pipeline\n",
    "\n",
    "\n",
    "\n"
   ]
  },
  {
   "cell_type": "code",
   "execution_count": 2,
   "metadata": {},
   "outputs": [],
   "source": [
    "# Change some pandas display options\n",
    "pd.set_option('display.max_rows', 500)\n",
    "pd.set_option('display.max_columns', 500)\n",
    "pd.set_option('display.width', 1000)\n",
    "pd.set_option(\"precision\", 10)"
   ]
  },
  {
   "cell_type": "markdown",
   "metadata": {},
   "source": [
    "# Data acquisition"
   ]
  },
  {
   "cell_type": "code",
   "execution_count": 3,
   "metadata": {},
   "outputs": [],
   "source": [
    "# Read data\n",
    "df_house = pd.read_csv(\"kc_house_data.csv\")\n",
    "df_house_full = df_house.copy()\n",
    "df_house = df_house.drop(columns=['id','zipcode','date'])\n",
    "\n",
    "# Splite data to train and test df\n",
    "df_train, df_test = train_test_split(df_house, test_size=0.3, random_state=33)\n",
    "\n",
    "# Reset index for each df for later modification\n",
    "# df_train.reset_index(drop=True, inplace=True)\n",
    "# df_test.reset_index(drop=True, inplace=True)\n",
    "\n",
    "\n",
    "# Edit date feature\n",
    "# df_house['date'] = df_house['date'].apply(lambda item: item[:8])\n",
    "# df_house['date'] = pd.to_datetime(df_house['date'], format='%Y%m%d', errors='ignore').astype('object')"
   ]
  },
  {
   "cell_type": "code",
   "execution_count": 4,
   "metadata": {},
   "outputs": [
    {
     "data": {
      "text/html": [
       "<div>\n",
       "<style scoped>\n",
       "    .dataframe tbody tr th:only-of-type {\n",
       "        vertical-align: middle;\n",
       "    }\n",
       "\n",
       "    .dataframe tbody tr th {\n",
       "        vertical-align: top;\n",
       "    }\n",
       "\n",
       "    .dataframe thead th {\n",
       "        text-align: right;\n",
       "    }\n",
       "</style>\n",
       "<table border=\"1\" class=\"dataframe\">\n",
       "  <thead>\n",
       "    <tr style=\"text-align: right;\">\n",
       "      <th></th>\n",
       "      <th>price</th>\n",
       "      <th>bedrooms</th>\n",
       "      <th>bathrooms</th>\n",
       "      <th>sqft_living</th>\n",
       "      <th>sqft_lot</th>\n",
       "      <th>floors</th>\n",
       "      <th>waterfront</th>\n",
       "      <th>view</th>\n",
       "      <th>condition</th>\n",
       "      <th>grade</th>\n",
       "      <th>sqft_above</th>\n",
       "      <th>sqft_basement</th>\n",
       "      <th>yr_built</th>\n",
       "      <th>yr_renovated</th>\n",
       "      <th>lat</th>\n",
       "      <th>long</th>\n",
       "      <th>sqft_living15</th>\n",
       "      <th>sqft_lot15</th>\n",
       "    </tr>\n",
       "  </thead>\n",
       "  <tbody>\n",
       "    <tr>\n",
       "      <th>7543</th>\n",
       "      <td>625000.0</td>\n",
       "      <td>2</td>\n",
       "      <td>1.00</td>\n",
       "      <td>1100</td>\n",
       "      <td>4160</td>\n",
       "      <td>1.0</td>\n",
       "      <td>0</td>\n",
       "      <td>0</td>\n",
       "      <td>3</td>\n",
       "      <td>7</td>\n",
       "      <td>1100</td>\n",
       "      <td>0</td>\n",
       "      <td>1919</td>\n",
       "      <td>0</td>\n",
       "      <td>47.6352</td>\n",
       "      <td>-122.352</td>\n",
       "      <td>1900</td>\n",
       "      <td>4000</td>\n",
       "    </tr>\n",
       "    <tr>\n",
       "      <th>6160</th>\n",
       "      <td>216600.0</td>\n",
       "      <td>3</td>\n",
       "      <td>1.75</td>\n",
       "      <td>2200</td>\n",
       "      <td>7700</td>\n",
       "      <td>1.0</td>\n",
       "      <td>0</td>\n",
       "      <td>0</td>\n",
       "      <td>3</td>\n",
       "      <td>7</td>\n",
       "      <td>1240</td>\n",
       "      <td>960</td>\n",
       "      <td>1975</td>\n",
       "      <td>0</td>\n",
       "      <td>47.4119</td>\n",
       "      <td>-122.181</td>\n",
       "      <td>1770</td>\n",
       "      <td>7360</td>\n",
       "    </tr>\n",
       "    <tr>\n",
       "      <th>6610</th>\n",
       "      <td>472500.0</td>\n",
       "      <td>3</td>\n",
       "      <td>2.50</td>\n",
       "      <td>1650</td>\n",
       "      <td>3711</td>\n",
       "      <td>2.0</td>\n",
       "      <td>0</td>\n",
       "      <td>0</td>\n",
       "      <td>3</td>\n",
       "      <td>8</td>\n",
       "      <td>1650</td>\n",
       "      <td>0</td>\n",
       "      <td>1996</td>\n",
       "      <td>0</td>\n",
       "      <td>47.6863</td>\n",
       "      <td>-122.093</td>\n",
       "      <td>1760</td>\n",
       "      <td>3762</td>\n",
       "    </tr>\n",
       "    <tr>\n",
       "      <th>17037</th>\n",
       "      <td>269950.0</td>\n",
       "      <td>3</td>\n",
       "      <td>2.50</td>\n",
       "      <td>1480</td>\n",
       "      <td>9743</td>\n",
       "      <td>2.0</td>\n",
       "      <td>0</td>\n",
       "      <td>0</td>\n",
       "      <td>4</td>\n",
       "      <td>7</td>\n",
       "      <td>1480</td>\n",
       "      <td>0</td>\n",
       "      <td>1996</td>\n",
       "      <td>0</td>\n",
       "      <td>47.3293</td>\n",
       "      <td>-122.001</td>\n",
       "      <td>1810</td>\n",
       "      <td>9601</td>\n",
       "    </tr>\n",
       "    <tr>\n",
       "      <th>18766</th>\n",
       "      <td>443000.0</td>\n",
       "      <td>3</td>\n",
       "      <td>1.75</td>\n",
       "      <td>1810</td>\n",
       "      <td>7950</td>\n",
       "      <td>1.0</td>\n",
       "      <td>0</td>\n",
       "      <td>0</td>\n",
       "      <td>4</td>\n",
       "      <td>7</td>\n",
       "      <td>1810</td>\n",
       "      <td>0</td>\n",
       "      <td>1968</td>\n",
       "      <td>0</td>\n",
       "      <td>47.6236</td>\n",
       "      <td>-122.117</td>\n",
       "      <td>1680</td>\n",
       "      <td>7725</td>\n",
       "    </tr>\n",
       "  </tbody>\n",
       "</table>\n",
       "</div>"
      ],
      "text/plain": [
       "          price  bedrooms  bathrooms  sqft_living  sqft_lot  floors  waterfront  view  condition  grade  sqft_above  sqft_basement  yr_built  yr_renovated      lat     long  sqft_living15  sqft_lot15\n",
       "7543   625000.0         2       1.00         1100      4160     1.0           0     0          3      7        1100              0      1919             0  47.6352 -122.352           1900        4000\n",
       "6160   216600.0         3       1.75         2200      7700     1.0           0     0          3      7        1240            960      1975             0  47.4119 -122.181           1770        7360\n",
       "6610   472500.0         3       2.50         1650      3711     2.0           0     0          3      8        1650              0      1996             0  47.6863 -122.093           1760        3762\n",
       "17037  269950.0         3       2.50         1480      9743     2.0           0     0          4      7        1480              0      1996             0  47.3293 -122.001           1810        9601\n",
       "18766  443000.0         3       1.75         1810      7950     1.0           0     0          4      7        1810              0      1968             0  47.6236 -122.117           1680        7725"
      ]
     },
     "execution_count": 4,
     "metadata": {},
     "output_type": "execute_result"
    }
   ],
   "source": [
    "df_train.head()"
   ]
  },
  {
   "cell_type": "markdown",
   "metadata": {},
   "source": [
    "# Train/Test split"
   ]
  },
  {
   "cell_type": "code",
   "execution_count": 7,
   "metadata": {},
   "outputs": [],
   "source": [
    "X_train, y_train = df_train.drop(columns=['price']), df_train['price']\n",
    "X_test, y_test = df_test.drop(columns=['price']), df_test['price']"
   ]
  },
  {
   "cell_type": "markdown",
   "metadata": {},
   "source": [
    "# Data modeling"
   ]
  },
  {
   "cell_type": "code",
   "execution_count": 8,
   "metadata": {},
   "outputs": [],
   "source": [
    "class OutliersRemover(BaseEstimator, TransformerMixin):\n",
    "    def __init__(self):\n",
    "        pass\n",
    "        \n",
    "    def fit(self, X:pd.DataFrame, y:pd.DataFrame=None):\n",
    "        X_copy = X.copy()\n",
    " \n",
    "        # index_condition = X_copy[\n",
    "        #     (y_copy['price']>7_000_000) | (X_copy['sqft_living']>13_000) | (X_copy['sqft_lot']>1.5e6) | (X_copy['sqft_basement']>4_000) | (X_copy['sqft_lot15']>8_00_000)\n",
    "        # ].index\n",
    "        index_condition = X_copy[\n",
    "            (X_copy['sqft_living']>13_000) | (X_copy['sqft_lot']>1.5e6) | (X_copy['sqft_basement']>4_000) | (X_copy['sqft_lot15']>8_00_000)\n",
    "        ].index\n",
    "\n",
    "        X_copy = X_copy.drop(index= index_condition)\n",
    "\n",
    "        return X_copy\n",
    "    \n",
    "    def transform(self, X):\n",
    "        # When doing prediction should return X and doesn't apply transformer on it\n",
    "        return X\n",
    "    \n",
    "    def fit_transform(self, X, y=None):\n",
    "        return self.transform(X)\n",
    "        \n",
    "\n",
    "class FeaturesRemover(BaseEstimator, TransformerMixin):\n",
    "    def __init__(self, removed_features:list[str]):\n",
    "        self.removed_features = removed_features\n",
    "        \n",
    "    def fit(self, X, y=None):\n",
    "        return self\n",
    "    \n",
    "    def transform(self, X):\n",
    "        output:pd.DataFrame = X.copy()\n",
    " \n",
    "        output = output.drop(columns=self.removed_features)\n",
    "\n",
    "        return output\n",
    "    \n",
    "    def fit_transform(self,X,y=None):\n",
    "        return self.fit(X,y).transform(X)\n",
    "\n",
    "\n",
    "    "
   ]
  },
  {
   "cell_type": "markdown",
   "metadata": {},
   "source": [
    "# Modeling"
   ]
  },
  {
   "cell_type": "markdown",
   "metadata": {},
   "source": [
    "## Linear Regression"
   ]
  },
  {
   "cell_type": "code",
   "execution_count": 9,
   "metadata": {},
   "outputs": [
    {
     "data": {
      "text/plain": [
       "Pipeline(steps=[('Remove Outliers', OutliersRemover()),\n",
       "                ('Remove features',\n",
       "                 FeaturesRemover(removed_features=['sqft_living15',\n",
       "                                                   'sqft_above',\n",
       "                                                   'sqft_lot15'])),\n",
       "                ('selection',\n",
       "                 SelectKBest(k=9,\n",
       "                             score_func=<function mutual_info_regression at 0x000001F12919A040>)),\n",
       "                ('Normalization', MinMaxScaler()),\n",
       "                ('Linear Regression', LinearRegression())])"
      ]
     },
     "execution_count": 9,
     "metadata": {},
     "output_type": "execute_result"
    }
   ],
   "source": [
    "num_of_selected_feats = 9\n",
    "\n",
    "lr_model = Pipeline(steps=[\n",
    "    ('Remove Outliers', OutliersRemover()),\n",
    "    ('Remove features', FeaturesRemover(removed_features=['sqft_living15', 'sqft_above', 'sqft_lot15'])),\n",
    "    (\"selection\", SelectKBest(mutual_info_regression, k=num_of_selected_feats)),\n",
    "    (\"Normalization\", MinMaxScaler()),\n",
    "    (\"Linear Regression\", LinearRegression())\n",
    "])\n",
    "lr_model.fit(X_train, y_train)\n"
   ]
  },
  {
   "cell_type": "markdown",
   "metadata": {},
   "source": [
    "## Polynomial Regression\n",
    "*Observation*:\n",
    "- We make some accuracy improvements in prediction the price"
   ]
  },
  {
   "cell_type": "code",
   "execution_count": 10,
   "metadata": {},
   "outputs": [
    {
     "data": {
      "text/plain": [
       "Pipeline(steps=[('Remove Outliers', OutliersRemover()),\n",
       "                ('Remove features',\n",
       "                 FeaturesRemover(removed_features=['sqft_living15',\n",
       "                                                   'sqft_above',\n",
       "                                                   'sqft_lot15'])),\n",
       "                ('selection',\n",
       "                 SelectKBest(k=9,\n",
       "                             score_func=<function mutual_info_regression at 0x000001F12919A040>)),\n",
       "                ('Normalization', MinMaxScaler()),\n",
       "                ('Polynomial Features', PolynomialFeatures()),\n",
       "                ('Linear Regression', LinearRegression())])"
      ]
     },
     "execution_count": 10,
     "metadata": {},
     "output_type": "execute_result"
    }
   ],
   "source": [
    "poly_model = Pipeline(steps=[\n",
    "    ('Remove Outliers', OutliersRemover()),\n",
    "    ('Remove features', FeaturesRemover(['sqft_living15', 'sqft_above', 'sqft_lot15'] )),\n",
    "    (\"selection\", SelectKBest(mutual_info_regression, k=num_of_selected_feats)),\n",
    "    (\"Normalization\", MinMaxScaler()),\n",
    "    (\"Polynomial Features\", PolynomialFeatures(degree=2)),\n",
    "    (\"Linear Regression\", LinearRegression())\n",
    "                        ])\n",
    "poly_model.fit(X_train, y_train)\n",
    "\n"
   ]
  },
  {
   "cell_type": "code",
   "execution_count": 11,
   "metadata": {},
   "outputs": [
    {
     "data": {
      "text/plain": [
       "Pipeline(steps=[('Polynomial Features', PolynomialFeatures()),\n",
       "                ('Linear Regression', LinearRegression())])"
      ]
     },
     "execution_count": 11,
     "metadata": {},
     "output_type": "execute_result"
    }
   ],
   "source": [
    "ploy_no_prep_model = Pipeline(steps=[\n",
    "                            (\"Polynomial Features\", PolynomialFeatures(degree=2)),\n",
    "                            (\"Linear Regression\", LinearRegression())\n",
    "                        ])\n",
    "ploy_no_prep_model.fit(X_train, y_train)\n",
    "\n"
   ]
  },
  {
   "cell_type": "markdown",
   "metadata": {},
   "source": [
    "## Ridge Regression\n",
    "- We notice adding regularization parameter doesn't make any improvement in accuracy"
   ]
  },
  {
   "cell_type": "code",
   "execution_count": 12,
   "metadata": {},
   "outputs": [
    {
     "data": {
      "text/plain": [
       "Pipeline(steps=[('Remove Outliers', OutliersRemover()),\n",
       "                ('Remove features',\n",
       "                 FeaturesRemover(removed_features=['sqft_living15',\n",
       "                                                   'sqft_above',\n",
       "                                                   'sqft_lot15'])),\n",
       "                ('selection',\n",
       "                 SelectKBest(k=9,\n",
       "                             score_func=<function mutual_info_regression at 0x000001F12919A040>)),\n",
       "                ('Normalization', MinMaxScaler()),\n",
       "                ('Polynomial Features', PolynomialFeatures()),\n",
       "                ('Ridge Regression', Ridge(alpha=0.1, random_state=0))])"
      ]
     },
     "execution_count": 12,
     "metadata": {},
     "output_type": "execute_result"
    }
   ],
   "source": [
    "\n",
    "ridge_model = Pipeline(steps=[\n",
    "    ('Remove Outliers', OutliersRemover()),\n",
    "    ('Remove features', FeaturesRemover(removed_features=['sqft_living15', 'sqft_above', 'sqft_lot15'])),\n",
    "    (\"selection\", SelectKBest(mutual_info_regression, k=num_of_selected_feats)),\n",
    "    (\"Normalization\", MinMaxScaler()),\n",
    "    (\"Polynomial Features\", PolynomialFeatures(degree=2)),\n",
    "    (\"Ridge Regression\", Ridge(alpha=0.1, random_state=0))\n",
    "    ])\n",
    "                        \n",
    "ridge_model.fit(X_train, y_train)\n"
   ]
  },
  {
   "cell_type": "markdown",
   "metadata": {},
   "source": [
    "## Lasso Regression"
   ]
  },
  {
   "cell_type": "code",
   "execution_count": 13,
   "metadata": {},
   "outputs": [
    {
     "data": {
      "text/plain": [
       "Pipeline(steps=[('Remove Outliers', OutliersRemover()),\n",
       "                ('Remove features',\n",
       "                 FeaturesRemover(removed_features=['sqft_living15',\n",
       "                                                   'sqft_above',\n",
       "                                                   'sqft_lot15'])),\n",
       "                ('selection',\n",
       "                 SelectKBest(k=9,\n",
       "                             score_func=<function mutual_info_regression at 0x000001F12919A040>)),\n",
       "                ('Normalization', MinMaxScaler()),\n",
       "                ('Polynomial Features', PolynomialFeatures()),\n",
       "                ('lasso Regression', Lasso(alpha=0.1, random_state=0))])"
      ]
     },
     "execution_count": 13,
     "metadata": {},
     "output_type": "execute_result"
    }
   ],
   "source": [
    "lasso_model = Pipeline(steps=[\n",
    "    ('Remove Outliers', OutliersRemover()),\n",
    "    ('Remove features', FeaturesRemover(removed_features=['sqft_living15', 'sqft_above', 'sqft_lot15'])),\n",
    "    (\"selection\", SelectKBest(mutual_info_regression, k=num_of_selected_feats)),\n",
    "    (\"Normalization\", MinMaxScaler()),\n",
    "    (\"Polynomial Features\", PolynomialFeatures(degree=2)),\n",
    "    (\"lasso Regression\", Lasso(alpha=0.1, random_state=0))\n",
    "    ])\n",
    "                        \n",
    "lasso_model.fit(X_train, y_train)\n"
   ]
  },
  {
   "cell_type": "markdown",
   "metadata": {},
   "source": [
    "# Reporting\n",
    "**Summary**:\n",
    "- **Linear Regression** yields lower accuracy comparing to other models.\n",
    "- Looking at scattered data, then adopt polynomial methodology will give better performance since most relationships are non-linear.\n",
    "- **Ridge** & **Lasso** & **Polynomial Regression** give close accuracy to each other.\n",
    "\n"
   ]
  },
  {
   "cell_type": "code",
   "execution_count": 14,
   "metadata": {},
   "outputs": [],
   "source": [
    "@dataclass\n",
    "class FittedEstimator:\n",
    "    \"\"\"\n",
    "    Class to store fitted estimator and its name\n",
    "    \"\"\"\n",
    "    name: str\n",
    "    details: str \n",
    "    fitted_model: object\n",
    "    n_fitted_features: int\n",
    "    X_train: pd.DataFrame\n",
    "    y_train: pd.Series\n",
    "    X_test: pd.DataFrame\n",
    "    y_test: pd.Series\n",
    "\n",
    "    rmse: float = field(init=False)\n",
    "    r2_train: float = field(init=False)\n",
    "    r2_test: float = field(init=False)\n",
    "    r2_adj_train: float = field(init=False)\n",
    "    r2_adj_test: float = field(init=False)\n",
    "    cv_score: float = field(init=False)\n",
    "\n",
    "    def __post_init__(self):\n",
    "        self.rmse = float(f\"{np.sqrt(mean_squared_error(self.y_test, self.fitted_model.predict(self.X_test))):.3f}\")\n",
    "        \n",
    "        self.r2_train = float(f\"{self.fitted_model.score(self.X_train, self.y_train):.3f}\")\n",
    "        self.r2_adj_train = float(f\"{self.adjusted_r2(self.X_train.shape[0], self.n_fitted_features, self.r2_train):.3f}\")\n",
    "        \n",
    "        self.r2_test = float(f\"{self.fitted_model.score(self.X_test, self.y_test):.3f}\")\n",
    "        self.r2_adj_test = float(f\"{self.adjusted_r2(self.X_test.shape[0], self.n_fitted_features, self.r2_test):.3f}\")\n",
    "        \n",
    "        self.cv_score = float(f\"{cross_val_score(self.fitted_model, self.X_train, self.y_train, cv=10).mean():.3f}\")\n",
    "    \n",
    "\n",
    "    def adjusted_r2(self, n:int, k:int, r2:float):\n",
    "        \"\"\"\n",
    "        Calculate the adjusted r2\n",
    "\n",
    "        Parameters:\n",
    "        -----------\n",
    "        n: number of samples\n",
    "        k: number of features\n",
    "        r2: r2 score\n",
    "        \"\"\"\n",
    "\n",
    "        return (1- (1-r2) * (n-1)/(n-k-1))\n",
    "\n",
    "class Evaluation:\n",
    "    def __init__(self, estimators: list[(str, FittedEstimator)]):\n",
    "        self.estimators = estimators\n",
    "        \n",
    "    @property\n",
    "    def eval(self):\n",
    "        \"\"\"Evaluate each estimator and add to evaluation DataFrame\"\"\"\n",
    "\n",
    "        values:pd.DataFrame = pd.DataFrame({'Model': [],\n",
    "                            'Details':[],\n",
    "                            'Root Mean Squared Error (RMSE)':[],\n",
    "                            'R-squared (training)':[],\n",
    "                            'Adjusted R-squared (training)':[],\n",
    "                            'R-squared (test)':[],\n",
    "                            'Adjusted R-squared (test)':[],\n",
    "                            '10-Fold Cross Validation':[]})\n",
    "\n",
    "\n",
    "        for estimator in self.estimators:\n",
    "         \n",
    "            values.loc[len(values)] = [estimator.name, estimator.details, estimator.rmse, estimator.r2_train, estimator.r2_adj_train, estimator.r2_test, estimator.r2_adj_test, estimator.cv_score]\n",
    "        \n",
    "        return values\n",
    "\n",
    "    def plot_cv_scores(self):\n",
    "        \"\"\"Plot bar for cross validation scores\"\"\"\n",
    "        figure = plt.figure(figsize=(10,5))\n",
    "        ax = figure.add_subplot(111)\n",
    "        sns.barplot(x='Model', y='10-Fold Cross Validation', data=self.eval)\n",
    "        \n",
    "        ax.bar_label(ax.containers[-1], fmt='CV:\\n%.2f', label_type='center')\n",
    "\n",
    "\n",
    "        ax.set_title('10-Fold Cross Validation Scores')\n",
    "        ax.set_xlabel('Model')\n",
    "        ax.set_ylabel('Score')\n",
    "    \n",
    "    def plot_r2_scores(self):\n",
    "        \"\"\"Plot bar for cross validation scores\"\"\"\n",
    "        figure = plt.figure(figsize=(10,5))\n",
    "        ax = figure.add_subplot(111)\n",
    "        sns.barplot(x='Model', y='R-squared (test)', data=self.eval)\n",
    "\n",
    "        ax.bar_label(ax.containers[-1], fmt='R-squared:\\n%.2f', label_type='center')\n",
    "    \n",
    "        ax.set_title('R-squared (test) Scores')\n",
    "        ax.set_xlabel('Model')\n",
    "        ax.set_ylabel('Score')\n",
    "\n",
    "\n",
    "    \n",
    "    "
   ]
  },
  {
   "cell_type": "code",
   "execution_count": 15,
   "metadata": {},
   "outputs": [],
   "source": [
    "lr_f_estimator = FittedEstimator('LR', '9 best features', lr_model, num_of_selected_feats, X_train, y_train, X_test, y_test)\n",
    "poly_f_estimator = FittedEstimator('Polynomial', '9 best features', poly_model, poly_model.get_params()['Polynomial Features'].n_output_features_, X_train, y_train, X_test, y_test)\n",
    "poly_no_pre_f_estimator = FittedEstimator('Polynomial no preprocess', 'all features', ploy_no_prep_model, ploy_no_prep_model.get_params()['Polynomial Features'].n_output_features_, X_train, y_train, X_test, y_test)\n",
    "ridge_f_estimator = FittedEstimator('Ridge', '9 best features', ridge_model, ridge_model.get_params()['Polynomial Features'].n_output_features_, X_train, y_train, X_test, y_test)\n",
    "lasso_f_estimator = FittedEstimator('Lasso', '9 best features', lasso_model, lasso_model.get_params()['Polynomial Features'].n_output_features_, X_train, y_train, X_test, y_test)\n",
    "\n"
   ]
  },
  {
   "cell_type": "code",
   "execution_count": 16,
   "metadata": {},
   "outputs": [],
   "source": [
    "report = Evaluation([\n",
    "    lr_f_estimator,\n",
    "    poly_f_estimator,\n",
    "    poly_no_pre_f_estimator,\n",
    "    ridge_f_estimator,\n",
    "    lasso_f_estimator\n",
    "])"
   ]
  },
  {
   "cell_type": "code",
   "execution_count": 17,
   "metadata": {},
   "outputs": [
    {
     "data": {
      "image/png": "[encoded data removed]",
      "text/plain": [
       "<Figure size 720x360 with 1 Axes>"
      ]
     },
     "metadata": {
      "needs_background": "light"
     },
     "output_type": "display_data"
    }
   ],
   "source": [
    "report.plot_r2_scores()"
   ]
  },
  {
   "cell_type": "code",
   "execution_count": null,
   "metadata": {},
   "outputs": [],
   "source": []
  }
 ],
 "metadata": {
  "interpreter": {
   "hash": "dafb1f7618ea635952683f9de1ec2ad0605097bc28573cb02814b9f97cdb4857"
  },
  "kernelspec": {
   "display_name": "Python 3.9.7 ('base')",
   "language": "python",
   "name": "python3"
  },
  "language_info": {
   "codemirror_mode": {
    "name": "ipython",
    "version": 3
   },
   "file_extension": ".py",
   "mimetype": "text/x-python",
   "name": "python",
   "nbconvert_exporter": "python",
   "pygments_lexer": "ipython3",
   "version": "3.9.7"
  }
 },
 "nbformat": 4,
 "nbformat_minor": 4
}
